{
 "cells": [
  {
   "cell_type": "code",
   "execution_count": 1,
   "id": "edc664f8-5d41-4323-bb0b-da33f2f99f73",
   "metadata": {},
   "outputs": [
    {
     "name": "stdout",
     "output_type": "stream",
     "text": [
      "[19, 19, 20, 22, 24, 24, 24, 25, 25, 26]\n",
      "max age is 26 \n",
      "min age is 19\n",
      "[19, 19, 20, 22, 24, 24, 24, 25, 25, 26, 19, 26]\n",
      "median= 24\n",
      "average age= 22.75\n",
      "range of ages= 7\n"
     ]
    }
   ],
   "source": [
    "ages = [19, 22, 19, 24, 20, 25, 26, 24, 25, 24] \n",
    "ages.sort()\n",
    "print(ages)\n",
    "m1=min(ages)\n",
    "m2=max(ages)\n",
    "print(\"max age is\",m2,\"\\nmin age is\",m1)\n",
    "ages.append(m1)\n",
    "ages.append(m2)\n",
    "print(ages)\n",
    "import math\n",
    "if(len(ages)%2==0):\n",
    "    median=ages[len(ages)//2]\n",
    "else:\n",
    "    median=(ages[math.floor(len(ages)/2)]+ages[math.ceil(len(ages)/2)])/2\n",
    "print(\"median=\",median)\n",
    "sum=0\n",
    "for i in range(len(ages)):\n",
    "    sum+=ages[i]\n",
    "sum=sum/len(ages)\n",
    "print(\"average age=\",sum)\n",
    "print(\"range of ages=\",(m2-m1))"
   ]
  },
  {
   "cell_type": "code",
   "execution_count": 29,
   "id": "edb76693-61bc-4c5d-b556-4e560acb90fa",
   "metadata": {},
   "outputs": [
    {
     "name": "stdout",
     "output_type": "stream",
     "text": [
      "<class 'dict'>\n",
      "{'name': 'bubby', 'color': 'black', 'breed': 'german shepard', 'legs': 2, 'age': 10}\n",
      "{'first_name': 'Vamsi', 'last_name': 'Kalisetty', 'gender': 'male', 'age': 24, 'marital status': 'unmarried', 'skills': ['c', 'python'], 'country': 'India', 'city': 'kadapa', 'address': 'xyz street'}\n",
      "len of student dictionary 9\n",
      "['c', 'python']\n",
      "skills type is <class 'list'>\n",
      "after addig new skills ['c', 'python', 'sql']\n",
      "list of keys\n",
      " ['first_name', 'last_name', 'gender', 'age', 'marital status', 'skills', 'country', 'city', 'address']\n",
      "list of values\n",
      " ['Vamsi', 'Kalisetty', 'male', 24, 'unmarried', ['c', 'python', 'sql'], 'India', 'kadapa', 'xyz street']\n"
     ]
    }
   ],
   "source": [
    "dog={}\n",
    "print(type(dog))\n",
    "dog[\"name\"]=\"bubby\"\n",
    "dog[\"color\"]=\"black\"\n",
    "dog[\"breed\"]=\"german shepard\"\n",
    "dog[\"legs\"]=2\n",
    "dog[\"age\"]=10\n",
    "print(dog)\n",
    "student={}\n",
    "student[\"first_name\"]=\"Vamsi\"\n",
    "student[\"last_name\"]=\"Kalisetty\"\n",
    "student[\"gender\"]=\"male\"\n",
    "student[\"age\"]=24\n",
    "student[\"marital status\"]=\"unmarried\"\n",
    "student[\"skills\"]=[\"c\",\"python\"]\n",
    "student[\"country\"]=\"India\"\n",
    "student[\"city\"]=\"kadapa\"\n",
    "student[\"address\"]=\"xyz street\"\n",
    "print(student)\n",
    "print(\"len of student dictionary\",len(student))\n",
    "print(student.get(\"skills\"))\n",
    "print(\"skills type is\",type(student.get(\"skills\")))\n",
    "student[\"skills\"]=[\"c\",\"python\",\"sql\"]\n",
    "print(\"after addig new skills\",student[\"skills\"])\n",
    "x=[i for i in student.keys()]\n",
    "print(\"list of keys\\n\",x)\n",
    "y=[i for i in student.values()]\n",
    "print(\"list of values\\n\",y)"
   ]
  },
  {
   "cell_type": "code",
   "execution_count": 18,
   "id": "61c51289-c84a-45e5-9645-579993fd6d27",
   "metadata": {},
   "outputs": [
    {
     "name": "stdout",
     "output_type": "stream",
     "text": [
      "brothers ('sai', 'raju', 'dheeraj')\n",
      "sisters ('sindhu', 'siri')\n",
      "siblings list ('sai', 'raju', 'dheeraj', 'sindhu', 'siri')\n",
      "no of siblings  5\n",
      "family members - ('TirumalaRao', 'Aruna', 'sai', 'raju', 'dheeraj', 'sindhu', 'siri')\n"
     ]
    }
   ],
   "source": [
    "bro=(\"sai\",\"raju\",\"dheeraj\")\n",
    "print(\"brothers\",bro)\n",
    "sis=(\"sindhu\",\"siri\")\n",
    "print(\"sisters\",sis)\n",
    "siblings=bro+sis\n",
    "print(\"siblings list\",siblings)\n",
    "print(\"no of siblings \",len(siblings))\n",
    "family_members=(\"TirumalaRao\",)+(\"Aruna\",)+siblings\n",
    "print(\"family members -\",family_members)"
   ]
  },
  {
   "cell_type": "code",
   "execution_count": 61,
   "id": "e04959dc-e08b-4e2f-80d9-a70a8c4e82d1",
   "metadata": {},
   "outputs": [
    {
     "name": "stdout",
     "output_type": "stream",
     "text": [
      "area of circle is  2827.4333882308138\n"
     ]
    },
    {
     "name": "stdin",
     "output_type": "stream",
     "text": [
      "enter radius of circle 9\n"
     ]
    },
    {
     "name": "stdout",
     "output_type": "stream",
     "text": [
      "area of circle=  254.46900494077323\n"
     ]
    }
   ],
   "source": [
    "r=30\n",
    "_area_of_circle_=math.pi*(r*r)\n",
    "print(\"area of circle is \",_area_of_circle_)\n",
    "_circum_of_circle=math.pi*2*r\n",
    "ur=int(input(\"enter radius of circle\"))\n",
    "print(\"area of circle= \",math.pi*(ur*ur))"
   ]
  },
  {
   "cell_type": "code",
   "execution_count": 69,
   "id": "98e111fd-9dcc-49e5-9099-d4928709b0dd",
   "metadata": {},
   "outputs": [
    {
     "name": "stdout",
     "output_type": "stream",
     "text": [
      "['I', 'am', 'a', 'teacher', 'and', 'I', 'love', 'to', 'inspire', 'and', 'teach', 'people']\n",
      "unique words are  {'to', 'am', 'I', 'inspire', 'people', 'teacher', 'love', 'a', 'teach', 'and'}\n"
     ]
    }
   ],
   "source": [
    "s=\"I am a teacher and I love to inspire and teach people\"\n",
    "sl=s.split()\n",
    "sets=set(sl)\n",
    "print(\"unique words are \",sets)"
   ]
  },
  {
   "cell_type": "code",
   "execution_count": 70,
   "id": "a716e0ba-6a25-40fc-b2cf-d5df16d465db",
   "metadata": {},
   "outputs": [
    {
     "name": "stdout",
     "output_type": "stream",
     "text": [
      "Name\t\tAge\tCountry\tCity\n",
      "Asabeneh\t250\tFinland\tHelsinki\n"
     ]
    }
   ],
   "source": [
    "print(\"Name\\t\\tAge\\tCountry\\tCity\")\n",
    "print(\"Asabeneh\\t250\\tFinland\\tHelsinki\")"
   ]
  },
  {
   "cell_type": "code",
   "execution_count": 5,
   "id": "1977a36c-070d-4d88-88e9-d21d67c8f703",
   "metadata": {},
   "outputs": [
    {
     "name": "stdout",
     "output_type": "stream",
     "text": [
      "The area of a circle with radius 10 is 314 meters square.\n"
     ]
    }
   ],
   "source": [
    "radius=10\n",
    "area=3.14*radius**2\n",
    "m=f\"The area of a circle with radius {radius} is {int(area)} meters square.\"\n",
    "print(m)"
   ]
  },
  {
   "cell_type": "code",
   "execution_count": 16,
   "id": "76d75318-adb5-444d-be1c-27615942948a",
   "metadata": {},
   "outputs": [
    {
     "name": "stdin",
     "output_type": "stream",
     "text": [
      "enter no of students  4\n",
      "Enter weight of student no 1in lbs 150\n",
      "Enter weight of student no 2in lbs 155\n",
      "Enter weight of student no 3in lbs 145\n",
      "Enter weight of student no 4in lbs 148\n"
     ]
    },
    {
     "name": "stdout",
     "output_type": "stream",
     "text": [
      "[150, 155, 145, 148]\n",
      "['68.04', '70.31', '65.77', '67.13']\n"
     ]
    }
   ],
   "source": [
    "N=int(input(\"enter no of students \"))\n",
    "wlb=[]\n",
    "wkg=[]\n",
    "for i in range(N):\n",
    "    c=int(input(f\"Enter weight of student no {i+1}in lbs\"))\n",
    "    wlb.append(c)\n",
    "    wkg.append(round(c*0.453592,2))\n",
    "print(wlb)\n",
    "print([f\"{num:.2f}\" for num in wkg])\n"
   ]
  },
  {
   "cell_type": "code",
   "execution_count": 15,
   "id": "c53d02bf-e413-45f5-a528-261d6bfef960",
   "metadata": {},
   "outputs": [
    {
     "name": "stdout",
     "output_type": "stream",
     "text": [
      "no of it companies 7\n",
      "after adding twitter {'IBM', 'Apple', 'Amazon', 'twitter', 'Google', 'Facebook', 'Microsoft', 'Oracle'}\n",
      "after adding multiple companies -\n",
      " {'infosys', 'IBM', 'Apple', 'twitter', 'accenture', 'cts', 'Oracle', 'Amazon', 'Google', 'Facebook', 'Microsoft'}\n",
      "after removing company cts {'infosys', 'IBM', 'Apple', 'twitter', 'accenture', 'Oracle', 'Amazon', 'Google', 'Facebook', 'Microsoft'}\n",
      "after discarding company cts {'infosys', 'IBM', 'Apple', 'twitter', 'accenture', 'Oracle', 'Amazon', 'Google', 'Facebook', 'Microsoft'}\n",
      "after joining A and B {19, 20, 22, 24, 25, 26, 27, 28}\n",
      "after intersection A and B {19, 20, 22, 24, 25, 26}\n",
      "A is subset of B\n",
      "A is not a disjoin of B\n",
      "after joining A with B {19, 20, 22, 24, 25, 26, 27, 28}\n",
      "after joining B with A {19, 20, 22, 24, 25, 26, 27, 28}\n",
      "symmentric difference is set()\n",
      "deleting all sets\n",
      "<class 'set'>\n",
      "ages  [19, 19, 20, 22, 24, 24, 24, 25, 25, 26, 19, 26]\n",
      "set_ages  {19, 20, 22, 24, 25, 26}\n",
      "length of ages as list 12\n",
      "length of ages as set_list 6\n",
      "list_ages is greater than no of ages in set_ages\n"
     ]
    }
   ],
   "source": [
    "it_companies = {'Facebook', 'Google', 'Microsoft', 'Apple', 'IBM', 'Oracle', 'Amazon'}\n",
    "A = {19, 22, 24, 20, 25, 26}\n",
    "B = {19, 22, 20, 25, 26, 24, 28, 27}\n",
    "age = [22, 19, 24, 25, 26, 24, 25, 24]\n",
    "print(\"no of it companies\",len(it_companies))\n",
    "it_companies.add(\"twitter\")\n",
    "print(\"after adding twitter\",it_companies)\n",
    "mul={\"cts\",\"infosys\",\"accenture\"}\n",
    "it_companies.update(mul)\n",
    "print(\"after adding multiple companies -\\n\",it_companies)\n",
    "it_companies.remove(\"cts\")\n",
    "print(\"after removing company cts\",it_companies)\n",
    "it_companies.discard(\"cts\")\n",
    "print(\"after discarding company cts\",it_companies)\n",
    "join=A.union(B)\n",
    "print(\"after joining A and B\",join)\n",
    "inter=A.intersection(B)\n",
    "print(\"after intersection A and B\",inter)\n",
    "is_subset=A.issubset(B)\n",
    "print(\"A is subset of B\") if is_subset==True else print(\"A is not a subset of B\")\n",
    "is_disjoin=A.isdisjoint(B)\n",
    "print(\"A is disjoin of B\") if is_disjoin==True else print(\"A is not a disjoin of B\")\n",
    "AwithB=A.union(B)\n",
    "print(\"after joining A with B\",AwithB)\n",
    "BwithA=B.union(A)\n",
    "print(\"after joining B with A\",BwithA)\n",
    "is_syn=AwithB.symmetric_difference(BwithA)\n",
    "print(\"symmentric difference is\",is_syn)\n",
    "print(\"deleting all sets\")\n",
    "del it_companies,A,B\n",
    "set_ages=set(ages)\n",
    "print(type(set_ages))\n",
    "print(\"ages \",ages)\n",
    "print(\"set_ages \",set_ages)\n",
    "print(\"length of ages as list\",len(ages))\n",
    "print(\"length of ages as set_list\",len(set_ages))\n",
    "if(len(ages)>len(set_ages)):\n",
    "    print(\"list_ages is greater than no of ages in set_ages\")\n",
    "elif(len(ages)<len(set_ages)):\n",
    "    print(\"list_ages are lower than no of ages in set_ages\")\n",
    "else:\n",
    "    print(\"both are equal\")"
   ]
  },
  {
   "cell_type": "code",
   "execution_count": null,
   "id": "a567e97e-1691-4676-9301-9738d177f4ec",
   "metadata": {},
   "outputs": [],
   "source": []
  }
 ],
 "metadata": {
  "kernelspec": {
   "display_name": "Python 3 (ipykernel)",
   "language": "python",
   "name": "python3"
  },
  "language_info": {
   "codemirror_mode": {
    "name": "ipython",
    "version": 3
   },
   "file_extension": ".py",
   "mimetype": "text/x-python",
   "name": "python",
   "nbconvert_exporter": "python",
   "pygments_lexer": "ipython3",
   "version": "3.12.1"
  }
 },
 "nbformat": 4,
 "nbformat_minor": 5
}
